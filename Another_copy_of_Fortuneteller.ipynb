{
  "nbformat": 4,
  "nbformat_minor": 0,
  "metadata": {
    "colab": {
      "provenance": [],
      "authorship_tag": "ABX9TyPbykoi/p9lSg92szrenPcg",
      "include_colab_link": true
    },
    "kernelspec": {
      "name": "python3",
      "display_name": "Python 3"
    },
    "language_info": {
      "name": "python"
    }
  },
  "cells": [
    {
      "cell_type": "markdown",
      "metadata": {
        "id": "view-in-github",
        "colab_type": "text"
      },
      "source": [
        "<a href=\"https://colab.research.google.com/github/ncnixon92/skills-introduction-to-github/blob/main/Another_copy_of_Fortuneteller.ipynb\" target=\"_parent\"><img src=\"https://colab.research.google.com/assets/colab-badge.svg\" alt=\"Open In Colab\"/></a>"
      ]
    },
    {
      "cell_type": "code",
      "execution_count": null,
      "metadata": {
        "id": "svo07U9ULeqb"
      },
      "outputs": [],
      "source": []
    },
    {
      "cell_type": "code",
      "source": [
        "import os\n",
        "\n",
        "#question_1_colors. Notes at bottom of question about future goals.\n",
        "color = input((\"Choose a color from the following selections to know your destiny: \\n green, yellow, red, blue, cyan, orange, violet, indigo:   \"))\n",
        "\n",
        "if color ==str(\"green\"):\n",
        "  print(\"\\n aha, green!! A wonderful selection\")\n",
        "elif color ==str(\"yellow\"):\n",
        "  print(\"\\n yellow! A true risk taker, how exciting\")\n",
        "elif color ==str(\"red\"):\n",
        "  print(\"\\n how original.. may your next decision be as interesting as your first\")\n",
        "elif color ==str(\"blue\"):\n",
        "  print(\"\\n blue, eh? you must be fun at parties...\")\n",
        "elif color ==str(\"cyan\"):\n",
        "  print(\"\\n cyan! how electric of a shade!\")\n",
        "elif color ==str(\"orange\"):\n",
        "  print(\"\\n orange ya glad i didn't ask for your wallet? \")\n",
        "elif color ==str(\"violet\"):\n",
        "  print(\"\\n violet! Ever heard of Tyrian purple?!\")\n",
        "elif color ==str(\"indigo\"):\n",
        "  print(\"\\n Indigo, i go! Indigo, i go! ...sorry! Wonderful choice! :)\")\n",
        "elif color not in (\"green\", \"yellow\", \"red\", \"blue\", \"cyan\", \"orange\", \"violet\", \"indigo\"):\n",
        "  print(\"maybe we need to try again or ya know what.. Let us move on\")\n",
        " # would love to know how to clear input/ output screen os.system('clear')?\n",
        " # Also, using a loop to circle back when the input does not match expected.\n",
        "\n",
        "#question_2_animals This either tells the user that they are right or wrong based on cat/dog vs. rest of animals.\n",
        "print(\"\\n Based on your colors selection, I must ask more questions..\\n please select an animal from the list: \")\n",
        "animals = input((\"dog, cat, python, donkey, snail, squirrel, zebra: \"))\n",
        "if animals == str(\"dog\"):\n",
        "  print(\"\\n WHOOF WHOOF! a dog person! Now we are getting somwhere!\")\n",
        "elif animals == str(\"cat\"):\n",
        "  print(\"\\n MEOW, MEOW.. beep boop... fortune teller loves cats.. boop beep boop\")\n",
        "else:\n",
        "  print(\"\\n Neither dogs, nor cats you say? questionable behavior..\\n need more information, I do... \")\n",
        "\n",
        "#question_3_seasons This will give the user the feeling of their decision playing into their fortune. the final question is the real determiner.\n",
        "print(\"\\n I suppose knowing what your favorite season is might help determine your final destiny..\")\n",
        "fav_season = input((\"Is it Spring, Summer, Fall, or Winter?\"))\n",
        "if fav_season == str(\"spring\"):\n",
        "  print(\" The season of new beginnings. How exciting, and also, how telling! \")\n",
        "if fav_season == str(\"summer\"):\n",
        "  print(\" The season for river floats, cookouts, and fireworks! You must be adventerous \")\n",
        "if fav_season == str(\"fall\"):\n",
        "  print(\" The beginning of cozy season! I bet you can't wait for PSL at starbucks too! no..? just me... ok. well...  \")\n",
        "if fav_season == str(\"winter\"):\n",
        "  print(\" No better time to curl up with a good book, enjoy some hot chocolate and watch the snow fall! \")\n",
        "\n",
        "#final_question_: This is the final determiner of the users fortune or destiny.\n",
        "print(\"\\n  Much has been learned by speaking with you, but i must ask a final question... \")\n",
        "num_question = int(input(\"\\n What is your favorite number between 0 and 1000? \"))\n",
        "if num_question < 125 and num_question >= 0:\n",
        "  print(\"Your destiny is: bright! You have chosen a rather low number and for that, i have determined you dont seek much in life!\")\n",
        "elif num_question < 250 and num_question >= 125:\n",
        "  print(\"Underwhelming you are.. I dont often get such a bizzare fortune to give.. I suppose that makes you exciting.. \")\n",
        "elif num_question < 375 and num_question >= 250:\n",
        "  print(\"Shooting low! Might i encourage you to aim higher next time and possibly seek more in your future\")\n",
        "elif num_question < 500 and num_question >= 375:\n",
        "  print(\"Middle of the pack huh? Your fortune reflects that and you will enjoy a mid life\")\n",
        "elif num_question < 625 and num_question >= 500:\n",
        "  print(\"Slightly above average you are.. you will live a comfortable life and enjoy good times\")\n",
        "elif num_question < 750 and num_question >= 625:\n",
        "  print(\"Not too high & not too low! You will forever be content with the future ahead, enjoy!\")\n",
        "elif num_question < 875 and num_question >= 750:\n",
        "  print(\"f\")\n",
        "elif num_question < 1000 and num_question >=875:\n",
        "  print(\"You certainly are an overachiever huh. Your future is a reflection of that. Enjoy prosperity ahead. \")\n",
        "else:\n",
        "  print(\"You have made unwise choices and your future reflects that.. Good Day and FAREWELL!\")\n",
        "print(\"Your future has been decided, now please leave me alone \\n Love, your fortune teller\")"
      ],
      "metadata": {
        "colab": {
          "base_uri": "https://localhost:8080/"
        },
        "id": "rTHDECsiLqym",
        "outputId": "e7b98ade-bd86-40fa-e8e1-0a1e3c932edc"
      },
      "execution_count": null,
      "outputs": [
        {
          "output_type": "stream",
          "name": "stdout",
          "text": [
            "Choose a color from the following selections to know your destiny: \n",
            " green, yellow, red, blue, cyan, orange, violet, indigo:   orange\n",
            "\n",
            " orange ya glad i didn't ask for your wallet? \n",
            "\n",
            " Based on your colors selection, I must ask more questions..\n",
            " please select an animal from the list: \n",
            "dog, cat, python, donkey, snail, squirrel, zebra: dog\n",
            "\n",
            " WHOOF WHOOF! a dog person! Now we are getting somwhere!\n",
            "\n",
            " I suppose knowing what your favorite season is might help determine your final destiny..\n",
            "Is it Spring, Summer, Fall, or Winter?winter\n",
            " No better time to curl up with a good book, enjoy some hot chocolate and watch the snow fall! \n",
            "\n",
            "  Much has been learned by speaking with you, but i must ask a final question... \n",
            "\n",
            " What is your favorite number between 0 and 1000? 1\n",
            "Your destiny is: bright! You have chosen a rather low number and for that, i have determined you dont seek much in life!\n",
            "Your future has been decided, now please leave me alone \n",
            " Love, your fortune teller\n"
          ]
        }
      ]
    }
  ]
}